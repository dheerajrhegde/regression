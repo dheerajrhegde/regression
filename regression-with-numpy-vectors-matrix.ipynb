{
 "cells": [
  {
   "cell_type": "code",
   "execution_count": 1,
   "id": "9316e968",
   "metadata": {
    "_cell_guid": "b1076dfc-b9ad-4769-8c92-a6c4dae69d19",
    "_uuid": "8f2839f25d086af736a60e9eeb907d3b93b6e0e5",
    "execution": {
     "iopub.execute_input": "2023-10-25T19:58:15.578798Z",
     "iopub.status.busy": "2023-10-25T19:58:15.578301Z",
     "iopub.status.idle": "2023-10-25T19:58:16.058621Z",
     "shell.execute_reply": "2023-10-25T19:58:16.057368Z"
    },
    "papermill": {
     "duration": 0.489758,
     "end_time": "2023-10-25T19:58:16.061705",
     "exception": false,
     "start_time": "2023-10-25T19:58:15.571947",
     "status": "completed"
    },
    "tags": []
   },
   "outputs": [],
   "source": [
    "# This Python 3 environment comes with many helpful analytics libraries installed\n",
    "# It is defined by the kaggle/python Docker image: https://github.com/kaggle/docker-python\n",
    "# For example, here's several helpful packages to load\n",
    "\n",
    "import numpy as np # linear algebra\n",
    "import pandas as pd # data processing, CSV file I/O (e.g. pd.read_csv)\n",
    "\n",
    "# Input data files are available in the read-only \"../input/\" directory\n",
    "# For example, running this (by clicking run or pressing Shift+Enter) will list all files under the input directory\n",
    "\n",
    "import os\n",
    "for dirname, _, filenames in os.walk('/kaggle/input'):\n",
    "    for filename in filenames:\n",
    "        print(os.path.join(dirname, filename))\n",
    "\n",
    "# You can write up to 20GB to the current directory (/kaggle/working/) that gets preserved as output when you create a version using \"Save & Run All\" \n",
    "# You can also write temporary files to /kaggle/temp/, but they won't be saved outside of the current session"
   ]
  },
  {
   "cell_type": "code",
   "execution_count": 2,
   "id": "084372a0",
   "metadata": {
    "execution": {
     "iopub.execute_input": "2023-10-25T19:58:16.072888Z",
     "iopub.status.busy": "2023-10-25T19:58:16.072272Z",
     "iopub.status.idle": "2023-10-25T19:58:16.079712Z",
     "shell.execute_reply": "2023-10-25T19:58:16.078629Z"
    },
    "papermill": {
     "duration": 0.017104,
     "end_time": "2023-10-25T19:58:16.082401",
     "exception": false,
     "start_time": "2023-10-25T19:58:16.065297",
     "status": "completed"
    },
    "tags": []
   },
   "outputs": [],
   "source": [
    "import numpy as np\n",
    "X = 2*np.random.rand(100,2)\n",
    "y = 4 + np.dot(X, [3,11]) + np.random.rand(1)\n",
    "y = y.reshape(100,1)\n",
    "\n",
    "w = np.random.random(2)\n",
    "w = w.reshape(2,1)\n",
    "b = np.random.random()"
   ]
  },
  {
   "cell_type": "code",
   "execution_count": 3,
   "id": "47849e12",
   "metadata": {
    "execution": {
     "iopub.execute_input": "2023-10-25T19:58:16.090642Z",
     "iopub.status.busy": "2023-10-25T19:58:16.090265Z",
     "iopub.status.idle": "2023-10-25T19:58:16.099480Z",
     "shell.execute_reply": "2023-10-25T19:58:16.098214Z"
    },
    "papermill": {
     "duration": 0.016136,
     "end_time": "2023-10-25T19:58:16.101826",
     "exception": false,
     "start_time": "2023-10-25T19:58:16.085690",
     "status": "completed"
    },
    "tags": []
   },
   "outputs": [
    {
     "data": {
      "text/plain": [
       "((2, 1), (100, 2), 0.996631400069531, (100, 1))"
      ]
     },
     "execution_count": 3,
     "metadata": {},
     "output_type": "execute_result"
    }
   ],
   "source": [
    "w.shape, X.shape, b, y.shape"
   ]
  },
  {
   "cell_type": "code",
   "execution_count": 4,
   "id": "591be0ac",
   "metadata": {
    "execution": {
     "iopub.execute_input": "2023-10-25T19:58:16.110529Z",
     "iopub.status.busy": "2023-10-25T19:58:16.110131Z",
     "iopub.status.idle": "2023-10-25T19:58:16.117125Z",
     "shell.execute_reply": "2023-10-25T19:58:16.115945Z"
    },
    "papermill": {
     "duration": 0.014145,
     "end_time": "2023-10-25T19:58:16.119431",
     "exception": false,
     "start_time": "2023-10-25T19:58:16.105286",
     "status": "completed"
    },
    "tags": []
   },
   "outputs": [],
   "source": [
    "def iterate(w,b,X,y, iterations):\n",
    "    for j in range(iterations):\n",
    "        A = np.dot(X, w) + b\n",
    "        dz = A-y\n",
    "        dw = np.dot(np.transpose(X),dz) / len(y)\n",
    "        db = np.average(dz)\n",
    "        w = w - 0.01 * dw\n",
    "        b = b - 0.01 * db\n",
    "    return w,b"
   ]
  },
  {
   "cell_type": "code",
   "execution_count": 5,
   "id": "2700dd38",
   "metadata": {
    "execution": {
     "iopub.execute_input": "2023-10-25T19:58:16.128277Z",
     "iopub.status.busy": "2023-10-25T19:58:16.127856Z",
     "iopub.status.idle": "2023-10-25T19:58:16.180489Z",
     "shell.execute_reply": "2023-10-25T19:58:16.178736Z"
    },
    "papermill": {
     "duration": 0.060924,
     "end_time": "2023-10-25T19:58:16.183810",
     "exception": false,
     "start_time": "2023-10-25T19:58:16.122886",
     "status": "completed"
    },
    "tags": []
   },
   "outputs": [
    {
     "name": "stdout",
     "output_type": "stream",
     "text": [
      "[[5.19836545]\n",
      " [6.95022657]] 5.355783967707393\n",
      "[[ 2.96121263]\n",
      " [10.59352669]] 4.529495262802511\n"
     ]
    }
   ],
   "source": [
    "w,b = iterate(w,b,X,y, 100)\n",
    "print(w,b)\n",
    "a_interim = np.dot(X,w) + b\n",
    "w,b = iterate(w,b,X,y, 1000)\n",
    "print(w,b)\n",
    "a_final = np.dot(X,w) + b"
   ]
  },
  {
   "cell_type": "code",
   "execution_count": 6,
   "id": "9cecd83e",
   "metadata": {
    "execution": {
     "iopub.execute_input": "2023-10-25T19:58:16.193547Z",
     "iopub.status.busy": "2023-10-25T19:58:16.193096Z",
     "iopub.status.idle": "2023-10-25T19:58:16.511143Z",
     "shell.execute_reply": "2023-10-25T19:58:16.509664Z"
    },
    "papermill": {
     "duration": 0.326343,
     "end_time": "2023-10-25T19:58:16.514046",
     "exception": false,
     "start_time": "2023-10-25T19:58:16.187703",
     "status": "completed"
    },
    "tags": []
   },
   "outputs": [
    {
     "data": {
      "text/plain": [
       "[<matplotlib.lines.Line2D at 0x7be2434eb940>]"
      ]
     },
     "execution_count": 6,
     "metadata": {},
     "output_type": "execute_result"
    },
    {
     "data": {
      "image/png": "[encoded data removed]",
      "text/plain": [
       "<Figure size 640x480 with 1 Axes>"
      ]
     },
     "metadata": {},
     "output_type": "display_data"
    }
   ],
   "source": [
    "import matplotlib.pyplot as plt\n",
    "plt.plot(y,y,\"b.\")\n",
    "plt.plot(y,a_interim,\"r.\")\n",
    "plt.plot(y,a_final,\"g.\")"
   ]
  },
  {
   "cell_type": "code",
   "execution_count": null,
   "id": "cb96c2c4",
   "metadata": {
    "papermill": {
     "duration": 0.004056,
     "end_time": "2023-10-25T19:58:16.522371",
     "exception": false,
     "start_time": "2023-10-25T19:58:16.518315",
     "status": "completed"
    },
    "tags": []
   },
   "outputs": [],
   "source": []
  }
 ],
 "metadata": {
  "kernelspec": {
   "display_name": "Python 3",
   "language": "python",
   "name": "python3"
  },
  "language_info": {
   "codemirror_mode": {
    "name": "ipython",
    "version": 3
   },
   "file_extension": ".py",
   "mimetype": "text/x-python",
   "name": "python",
   "nbconvert_exporter": "python",
   "pygments_lexer": "ipython3",
   "version": "3.10.12"
  },
  "papermill": {
   "default_parameters": {},
   "duration": 5.398968,
   "end_time": "2023-10-25T19:58:17.148914",
   "environment_variables": {},
   "exception": null,
   "input_path": "__notebook__.ipynb",
   "output_path": "__notebook__.ipynb",
   "parameters": {},
   "start_time": "2023-10-25T19:58:11.749946",
   "version": "2.4.0"
  }
 },
 "nbformat": 4,
 "nbformat_minor": 5
}

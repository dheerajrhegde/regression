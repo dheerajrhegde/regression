{
 "cells": [
  {
   "cell_type": "code",
   "execution_count": 1,
   "id": "71ae118a",
   "metadata": {
    "_cell_guid": "b1076dfc-b9ad-4769-8c92-a6c4dae69d19",
    "_uuid": "8f2839f25d086af736a60e9eeb907d3b93b6e0e5",
    "execution": {
     "iopub.execute_input": "2023-10-25T18:35:20.853165Z",
     "iopub.status.busy": "2023-10-25T18:35:20.852611Z",
     "iopub.status.idle": "2023-10-25T18:35:21.282021Z",
     "shell.execute_reply": "2023-10-25T18:35:21.280825Z"
    },
    "papermill": {
     "duration": 0.438012,
     "end_time": "2023-10-25T18:35:21.285260",
     "exception": false,
     "start_time": "2023-10-25T18:35:20.847248",
     "status": "completed"
    },
    "tags": []
   },
   "outputs": [],
   "source": [
    "# This Python 3 environment comes with many helpful analytics libraries installed\n",
    "# It is defined by the kaggle/python Docker image: https://github.com/kaggle/docker-python\n",
    "# For example, here's several helpful packages to load\n",
    "\n",
    "import numpy as np # linear algebra\n",
    "import pandas as pd # data processing, CSV file I/O (e.g. pd.read_csv)\n",
    "\n",
    "# Input data files are available in the read-only \"../input/\" directory\n",
    "# For example, running this (by clicking run or pressing Shift+Enter) will list all files under the input directory\n",
    "\n",
    "import os\n",
    "for dirname, _, filenames in os.walk('/kaggle/input'):\n",
    "    for filename in filenames:\n",
    "        print(os.path.join(dirname, filename))\n",
    "\n",
    "# You can write up to 20GB to the current directory (/kaggle/working/) that gets preserved as output when you create a version using \"Save & Run All\" \n",
    "# You can also write temporary files to /kaggle/temp/, but they won't be saved outside of the current session"
   ]
  },
  {
   "cell_type": "code",
   "execution_count": 2,
   "id": "1324da0c",
   "metadata": {
    "execution": {
     "iopub.execute_input": "2023-10-25T18:35:21.297121Z",
     "iopub.status.busy": "2023-10-25T18:35:21.295885Z",
     "iopub.status.idle": "2023-10-25T18:35:21.302856Z",
     "shell.execute_reply": "2023-10-25T18:35:21.301738Z"
    },
    "papermill": {
     "duration": 0.016387,
     "end_time": "2023-10-25T18:35:21.305380",
     "exception": false,
     "start_time": "2023-10-25T18:35:21.288993",
     "status": "completed"
    },
    "tags": []
   },
   "outputs": [],
   "source": [
    "import numpy as np\n",
    "X = 2*np.random.rand(100,1)\n",
    "y = 4+3*X+np.random.rand(100,1)"
   ]
  },
  {
   "cell_type": "code",
   "execution_count": null,
   "id": "66fb9f33",
   "metadata": {
    "papermill": {
     "duration": 0.002957,
     "end_time": "2023-10-25T18:35:21.311787",
     "exception": false,
     "start_time": "2023-10-25T18:35:21.308830",
     "status": "completed"
    },
    "tags": []
   },
   "outputs": [],
   "source": []
  },
  {
   "cell_type": "code",
   "execution_count": 3,
   "id": "2b07d2d8",
   "metadata": {
    "execution": {
     "iopub.execute_input": "2023-10-25T18:35:21.319949Z",
     "iopub.status.busy": "2023-10-25T18:35:21.319536Z",
     "iopub.status.idle": "2023-10-25T18:35:21.330089Z",
     "shell.execute_reply": "2023-10-25T18:35:21.328999Z"
    },
    "papermill": {
     "duration": 0.018155,
     "end_time": "2023-10-25T18:35:21.333118",
     "exception": false,
     "start_time": "2023-10-25T18:35:21.314963",
     "status": "completed"
    },
    "tags": []
   },
   "outputs": [
    {
     "name": "stdout",
     "output_type": "stream",
     "text": [
      "0.30651107241192477 0.24067403928865105\n"
     ]
    }
   ],
   "source": [
    "w = np.random.random()\n",
    "b = np.random.random()\n",
    "print(b,w)  \n",
    "def interate(w,b,X,y, iteration):\n",
    "    for j in range(iteration):\n",
    "        dw = 0\n",
    "        dz = 0\n",
    "        db = 0\n",
    "        loss_value = 0\n",
    "        for i in range(len(X)):\n",
    "            z = w*X[i]+b\n",
    "            a = z\n",
    "            loss = a-y[i]\n",
    "            loss_value = loss_value + loss\n",
    "            dz = float(a - y[i])\n",
    "            dw = float(dw + X[i] * dz)\n",
    "            db = float(db + dz)\n",
    "            #print(a,y[i])\n",
    "\n",
    "        w = float(w - 0.01 * dw / len(X))\n",
    "        b = b - 0.01 * db / len(X)\n",
    "        cost = loss_value / len(X) \n",
    "    return w,b"
   ]
  },
  {
   "cell_type": "code",
   "execution_count": 4,
   "id": "14b4ff2b",
   "metadata": {
    "execution": {
     "iopub.execute_input": "2023-10-25T18:35:21.342342Z",
     "iopub.status.busy": "2023-10-25T18:35:21.341314Z",
     "iopub.status.idle": "2023-10-25T18:35:21.476705Z",
     "shell.execute_reply": "2023-10-25T18:35:21.475681Z"
    },
    "papermill": {
     "duration": 0.142767,
     "end_time": "2023-10-25T18:35:21.479346",
     "exception": false,
     "start_time": "2023-10-25T18:35:21.336579",
     "status": "completed"
    },
    "tags": []
   },
   "outputs": [],
   "source": [
    "w,b = interate(w,b,X,y, 100)\n",
    "a_intermediate = w*X+b"
   ]
  },
  {
   "cell_type": "code",
   "execution_count": 5,
   "id": "f6aa7758",
   "metadata": {
    "execution": {
     "iopub.execute_input": "2023-10-25T18:35:21.488377Z",
     "iopub.status.busy": "2023-10-25T18:35:21.487992Z",
     "iopub.status.idle": "2023-10-25T18:35:34.616956Z",
     "shell.execute_reply": "2023-10-25T18:35:34.615462Z"
    },
    "papermill": {
     "duration": 13.136709,
     "end_time": "2023-10-25T18:35:34.619771",
     "exception": false,
     "start_time": "2023-10-25T18:35:21.483062",
     "status": "completed"
    },
    "tags": []
   },
   "outputs": [],
   "source": [
    "w,b = interate(w,b,X,y, 10000)\n",
    "a_final = w*X+b"
   ]
  },
  {
   "cell_type": "code",
   "execution_count": 6,
   "id": "592fe6a2",
   "metadata": {
    "execution": {
     "iopub.execute_input": "2023-10-25T18:35:34.628846Z",
     "iopub.status.busy": "2023-10-25T18:35:34.628086Z",
     "iopub.status.idle": "2023-10-25T18:35:35.020555Z",
     "shell.execute_reply": "2023-10-25T18:35:35.019183Z"
    },
    "papermill": {
     "duration": 0.399915,
     "end_time": "2023-10-25T18:35:35.023264",
     "exception": false,
     "start_time": "2023-10-25T18:35:34.623349",
     "status": "completed"
    },
    "tags": []
   },
   "outputs": [
    {
     "data": {
      "text/plain": [
       "<matplotlib.legend.Legend at 0x7f86a696f5e0>"
      ]
     },
     "execution_count": 6,
     "metadata": {},
     "output_type": "execute_result"
    },
    {
     "data": {
      "image/png": "[encoded data removed]",
      "text/plain": [
       "<Figure size 640x480 with 1 Axes>"
      ]
     },
     "metadata": {},
     "output_type": "display_data"
    }
   ],
   "source": [
    "import matplotlib.pyplot as plt\n",
    "plt.plot(X,y,\"b.\")\n",
    "plt.plot(X,a_intermediate,\"r.\", label=\"intermediate\")\n",
    "plt.plot(X,a_final,\"g.\", label=\"final\")\n",
    "plt.legend()"
   ]
  }
 ],
 "metadata": {
  "kernelspec": {
   "display_name": "Python 3",
   "language": "python",
   "name": "python3"
  },
  "language_info": {
   "codemirror_mode": {
    "name": "ipython",
    "version": 3
   },
   "file_extension": ".py",
   "mimetype": "text/x-python",
   "name": "python",
   "nbconvert_exporter": "python",
   "pygments_lexer": "ipython3",
   "version": "3.10.12"
  },
  "papermill": {
   "default_parameters": {},
   "duration": 18.35767,
   "end_time": "2023-10-25T18:35:35.547762",
   "environment_variables": {},
   "exception": null,
   "input_path": "__notebook__.ipynb",
   "output_path": "__notebook__.ipynb",
   "parameters": {},
   "start_time": "2023-10-25T18:35:17.190092",
   "version": "2.4.0"
  }
 },
 "nbformat": 4,
 "nbformat_minor": 5
}
